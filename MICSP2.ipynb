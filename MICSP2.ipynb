{
 "cells": [
  {
   "cell_type": "code",
   "execution_count": null,
   "metadata": {},
   "outputs": [],
   "source": [
    "import numpy as np\n",
    "import scipy.linalg as la\n",
    "import mne.filter as bandpass\n",
    "from sklearn.discriminant_analysis import LinearDiscriminantAnalysis as LDA\n",
    "import geomstats as gs\n",
    "import geomstats.geometry.spd_matrices as spd\n",
    "from geomstats.learning.frechet_mean import FrechetMean\n",
    "from scipy.io import loadmat  "
   ]
  },
  {
   "cell_type": "code",
   "execution_count": 16,
   "metadata": {},
   "outputs": [],
   "source": [
    "class RCSP:\n",
    "    def __init__(self, channels):\n",
    "        self.channels = channels\n",
    "        self.V=None\n",
    "      \n",
    "    def bandpass(self, X, fs, fl, fh):\n",
    "        X = np.swapaxes(X, 1, 2)\n",
    "        X = bandpass.filter_data(X, fs, fl, fh, verbose=False)\n",
    "        X = np.swapaxes(X, 1, 2)\n",
    "        return X\n",
    "        \n",
    "    def calcucateCovariances(self, X):\n",
    "        covlist = np.empty((X.shape[0], X.shape[2], X.shape[2]))\n",
    "        for i in range(len(X)):\n",
    "            epoch = X[i]\n",
    "            covlist[i] = np.dot(epoch.T, epoch)\n",
    "        return covlist\n",
    "    \n",
    "    def estimateMeans(self, classSpecificCOV, metric):\n",
    "        if metric==\"AIRM\":\n",
    "            estimator = FrechetMean(spd.SPDMetricAffine(n=self.channels), max_iter=64)\n",
    "        elif metric==\"LEM\":\n",
    "            estimator = FrechetMean(spd.SPDMetricLogEuclidean(n=self.channels), max_iter=64)\n",
    "        else:\n",
    "            raise Exception(\"Not implemented metric\")\n",
    "            \n",
    "        means = []\n",
    "        \n",
    "        for COV in classSpecificCOV:\n",
    "            estimator.fit(COV)\n",
    "            mean = estimator.estimate_\n",
    "            means.append(mean)\n",
    "        return means\n",
    "    \n",
    "    \n",
    "    def separate_classes(self, X, Y):\n",
    "        classSpecificCOV = []\n",
    "        for i in range(2): \n",
    "            ind = np.where(Y==i)[0]\n",
    "            classCOV = X[ind]\n",
    "            classSpecificCOV.append(classCOV)\n",
    "        return classSpecificCOV\n",
    "    \n",
    "    def CSP(self, X, Y, metric, n):\n",
    "        classSpecificCOV = self.separate_classes(X, Y)\n",
    "        if metric == \"classic\":\n",
    "            class0_avg = sum(classSpecificCOV[0])/len(classSpecificCOV[0])\n",
    "            class1_avg = sum(classSpecificCOV[1])/len(classSpecificCOV[1])\n",
    "        else:\n",
    "            class0_avg, class1_avg = self.estimateMeans(classSpecificCOV, metric)\n",
    "\n",
    "        _,V = la.eigh(class0_avg, class0_avg+class1_avg)\n",
    "        V = np.concatenate((V[:, :n], V[:, -n:]), axis=1)\n",
    "        \n",
    "        return V\n",
    "    \n",
    "    def applyCSP(self, dk, V):\n",
    "        a = np.dot(np.dot(V.T, dk), V) \n",
    "        f = np.log(np.diagonal(a)/np.trace(a)) \n",
    "        return f\n",
    "    \n",
    "    def get_mi_features(self, data, metric=\"classic\", mode=\"train\", fs=1000, fl=8, fh=30, n=3):\n",
    "\n",
    "        channels = [7, 8, 9, 10, 12, 13, 14, 17, 18, 19, 20, 32, 33, 34, 35, 36, 37, 38, 39, 40]\n",
    "\n",
    "        X = data['smt'][0][0][:, :, channels]\n",
    "        Y = data['y_dec'][0][0][0]\n",
    "\n",
    "        X = np.swapaxes(X, 0, 1)\n",
    "        Y = Y-1\n",
    "\n",
    "        filteredX = self.bandpass(X, fs, fl, fh)\n",
    "\n",
    "        covX = self.calcucateCovariances(filteredX)\n",
    "        \n",
    "        if mode==\"train\":\n",
    "            V = self.CSP(covX, Y, metric, n)\n",
    "            self.V = V\n",
    "        else:\n",
    "            if self.V is None:\n",
    "                raise Exception(\"train CSP first please\")\n",
    "            V=self.V\n",
    "        \n",
    "        features = np.empty((len(X), 2*n))\n",
    "  \n",
    "        for i in range(len(X)):\n",
    "            epoch = covX[i]\n",
    "            features[i] = self.applyCSP(epoch, V) \n",
    "            \n",
    "        return features, Y"
   ]
  },
  {
   "cell_type": "code",
   "execution_count": 17,
   "metadata": {},
   "outputs": [],
   "source": [
    "csp = RCSP(20)"
   ]
  },
  {
   "cell_type": "code",
   "execution_count": 18,
   "metadata": {},
   "outputs": [],
   "source": [
    "metric = \"classic\""
   ]
  },
  {
   "cell_type": "code",
   "execution_count": 13,
   "metadata": {},
   "outputs": [
    {
     "name": "stdout",
     "output_type": "stream",
     "text": [
      "Metric is classic\n",
      "Subject 1, accuracy = 0.78\n",
      "Subject 2, accuracy = 0.92\n",
      "Subject 3, accuracy = 0.92\n",
      "Subject 4, accuracy = 0.49\n",
      "Subject 5, accuracy = 0.86\n"
     ]
    }
   ],
   "source": [
    "print(\"Metric is \" + metric)\n",
    "for i in range(1,6):\n",
    "    filename = 'datasets/sess01_subj0{}_EEG_MI.mat'.format(i)\n",
    "    data = loadmat(filename)\n",
    "    train = data['EEG_MI_train']\n",
    "    test = data['EEG_MI_test']\n",
    "    \n",
    "    trainX, trainY = csp.get_mi_features(train, metric=metric, mode=\"train\")\n",
    "    testX, testY = csp.get_mi_features(test, metric=metric, mode=\"test\")\n",
    "    clf = LDA()\n",
    "    clf.fit(trainX, trainY)\n",
    "    res = clf.score(testX, testY)\n",
    "    print(\"Subject \" + str(i) + \", accuracy = \" + str(res))"
   ]
  },
  {
   "cell_type": "code",
   "execution_count": 19,
   "metadata": {},
   "outputs": [],
   "source": [
    "metric = \"AIRM\""
   ]
  },
  {
   "cell_type": "code",
   "execution_count": 20,
   "metadata": {},
   "outputs": [
    {
     "name": "stdout",
     "output_type": "stream",
     "text": [
      "Metric is AIRM\n",
      "Subject 1, accuracy = 0.74\n",
      "Subject 2, accuracy = 0.88\n",
      "Subject 3, accuracy = 0.93\n",
      "Subject 4, accuracy = 0.54\n",
      "Subject 5, accuracy = 0.88\n"
     ]
    }
   ],
   "source": [
    "print(\"Metric is \" + metric)\n",
    "for i in range(1,6):\n",
    "    filename = 'datasets/sess01_subj0{}_EEG_MI.mat'.format(i)\n",
    "    data = loadmat(filename)\n",
    "    train = data['EEG_MI_train']\n",
    "    test = data['EEG_MI_test']\n",
    "    \n",
    "    trainX, trainY = csp.get_mi_features(train, metric=metric, mode=\"train\")\n",
    "    testX, testY = csp.get_mi_features(test, metric=metric, mode=\"test\")\n",
    "    clf = LDA()\n",
    "    clf.fit(trainX, trainY)\n",
    "    res = clf.score(testX, testY)\n",
    "    print(\"Subject \" + str(i) + \", accuracy = \" + str(res))"
   ]
  },
  {
   "cell_type": "code",
   "execution_count": 21,
   "metadata": {},
   "outputs": [],
   "source": [
    "metric = \"LEM\""
   ]
  },
  {
   "cell_type": "code",
   "execution_count": 22,
   "metadata": {},
   "outputs": [
    {
     "name": "stdout",
     "output_type": "stream",
     "text": [
      "Metric is LEM\n",
      "Subject 1, accuracy = 0.7\n",
      "Subject 2, accuracy = 0.88\n",
      "Subject 3, accuracy = 0.91\n",
      "Subject 4, accuracy = 0.59\n",
      "Subject 5, accuracy = 0.86\n"
     ]
    }
   ],
   "source": [
    "print(\"Metric is \" + metric)\n",
    "for i in range(1,6):\n",
    "    filename = 'datasets/sess01_subj0{}_EEG_MI.mat'.format(i)\n",
    "    data = loadmat(filename)\n",
    "    train = data['EEG_MI_train']\n",
    "    test = data['EEG_MI_test']\n",
    "    \n",
    "    trainX, trainY = csp.get_mi_features(train, metric=metric, mode=\"train\")\n",
    "    testX, testY = csp.get_mi_features(test, metric=metric, mode=\"test\")\n",
    "    clf = LDA()\n",
    "    clf.fit(trainX, trainY)\n",
    "    res = clf.score(testX, testY)\n",
    "    print(\"Subject \" + str(i) + \", accuracy = \" + str(res))"
   ]
  },
  {
   "cell_type": "code",
   "execution_count": null,
   "metadata": {},
   "outputs": [],
   "source": []
  }
 ],
 "metadata": {
  "kernelspec": {
   "display_name": "Python 3",
   "language": "python",
   "name": "python3"
  },
  "language_info": {
   "codemirror_mode": {
    "name": "ipython",
    "version": 3
   },
   "file_extension": ".py",
   "mimetype": "text/x-python",
   "name": "python",
   "nbconvert_exporter": "python",
   "pygments_lexer": "ipython3",
   "version": "3.7.6"
  }
 },
 "nbformat": 4,
 "nbformat_minor": 4
}
