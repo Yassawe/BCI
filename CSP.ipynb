{
 "cells": [
  {
   "cell_type": "code",
   "execution_count": 24,
   "metadata": {},
   "outputs": [
    {
     "name": "stdout",
     "output_type": "stream",
     "text": [
      "env: GEOMSTATS_BACKEND=numpy\n",
      "env: NUMEXPR_MAX_THREADS=12\n"
     ]
    }
   ],
   "source": [
    "%env GEOMSTATS_BACKEND=numpy\n",
    "%env NUMEXPR_MAX_THREADS=12 \n",
    "\n",
    "import pandas as pd\n",
    "import numpy as np\n",
    "import scipy.linalg as la\n",
    "import pickle\n",
    "\n",
    "\n",
    "import geomstats as gs\n",
    "import geomstats.geometry.spd_matrices as spd\n",
    "from geomstats.learning.frechet_mean import FrechetMean\n",
    "\n",
    "import logging\n",
    "logger = logging.getLogger()\n",
    "logger.disabled = True\n",
    "\n",
    "from sklearn.linear_model import LogisticRegression"
   ]
  },
  {
   "cell_type": "code",
   "execution_count": 2,
   "metadata": {},
   "outputs": [],
   "source": [
    "subjects = 20\n",
    "epochs = 400\n",
    "points = 512\n",
    "channels = 62\n",
    "\n",
    "conditions=['left','right']\n",
    "\n",
    "# Throughout this code, left condition is marked 0, right condition is marked 1\n",
    "# Same applies for some arrays, 0th position is smh corresponding to left, 1th position is smh corresponding to right "
   ]
  },
  {
   "cell_type": "code",
   "execution_count": 3,
   "metadata": {},
   "outputs": [],
   "source": [
    "filename = 'BDproject/SPDDataset.pickle'\n",
    "infile=open(filename,'rb')\n",
    "SPDDataset=pickle.load(infile)"
   ]
  },
  {
   "cell_type": "code",
   "execution_count": 63,
   "metadata": {},
   "outputs": [],
   "source": [
    "class classicCSP:\n",
    "    def __init__(self, subjects, train_size=0.8):\n",
    "        self.subjects=subjects\n",
    "        self.train_size=train_size\n",
    "        \n",
    "    def separate_classes(self, d, l):\n",
    "        classSpecificSPD=[]\n",
    "        for i in range(2): #two classes\n",
    "            indecies = [j for j,val in enumerate(l) if val==i]\n",
    "            classSPD = [d[j] for j in indecies]\n",
    "            classSpecificSPD.append(classSPD)\n",
    "        return classSpecificSPD\n",
    "    \n",
    "    def traintestsplit(self, d, l):\n",
    "        N = len(d)\n",
    "        d_train = d[:int(N*self.train_size)]\n",
    "        l_train = l[:int(N*self.train_size)]\n",
    "        \n",
    "        d_test = d[int(N*self.train_size):]\n",
    "        l_test = l[int(N*self.train_size):]\n",
    "        \n",
    "        return d_train, l_train, d_test, l_test\n",
    "    \n",
    "    def getSpatialFilter(self, d, l, n):\n",
    "        left, right = self.separate_classes(d, l)\n",
    "        \n",
    "        left_avg = sum(left)/len(left)\n",
    "        right_avg = sum(right)/len(right)\n",
    "        _,V = la.eig(left_avg, left_avg+right_avg)\n",
    "        V = np.concatenate((V[:, :n], V[:, -n:]), axis=1)\n",
    "        return V\n",
    "    \n",
    "    def extractFeatures(self, dk, V):\n",
    "        a = np.dot(np.dot(V.T, dk), V)\n",
    "        f = np.log(np.diagonal(a)/np.trace(a))\n",
    "        return f\n",
    "    \n",
    "    def mainloop(self, SPDDataset, n, C):\n",
    "        \n",
    "        results = []\n",
    "        \n",
    "        for i in range(self.subjects):\n",
    "            d,l = SPDDataset[i]\n",
    "            d_train, l_train, d_test, l_test = self.traintestsplit(d,l)\n",
    "            \n",
    "            V = self.getSpatialFilter(d_train, l_train, n)\n",
    "            \n",
    "            f_train = []\n",
    "            f_test = []\n",
    "            \n",
    "            for j in range(len(d_train)):\n",
    "                f_train.append(self.extractFeatures(d_train[j], V))\n",
    "                \n",
    "            for j in range(len(d_test)):\n",
    "                f_test.append(self.extractFeatures(d_test[j], V))\n",
    "                \n",
    "            model = LogisticRegression(C=C, max_iter=2000)\n",
    "            \n",
    "            model.fit(f_train, l_train)\n",
    "            accuracy = model.score(f_test, l_test)\n",
    "            results.append(accuracy)\n",
    "            print(\"For subject \"+str(i+1) + \" mean accuracy is \" + str(accuracy))            \n",
    "        return results"
   ]
  },
  {
   "cell_type": "code",
   "execution_count": 64,
   "metadata": {},
   "outputs": [],
   "source": [
    "CSP = classicCSP(subjects, 0.6)"
   ]
  },
  {
   "cell_type": "code",
   "execution_count": 65,
   "metadata": {},
   "outputs": [
    {
     "name": "stdout",
     "output_type": "stream",
     "text": [
      "For subject 1 mean accuracy is 0.55\n",
      "For subject 2 mean accuracy is 0.48125\n",
      "For subject 3 mean accuracy is 0.4625\n",
      "For subject 4 mean accuracy is 0.61875\n",
      "For subject 5 mean accuracy is 0.44375\n",
      "For subject 6 mean accuracy is 0.5125\n",
      "For subject 7 mean accuracy is 0.50625\n",
      "For subject 8 mean accuracy is 0.46875\n",
      "For subject 9 mean accuracy is 0.45625\n",
      "For subject 10 mean accuracy is 0.5\n",
      "For subject 11 mean accuracy is 0.40625\n",
      "For subject 12 mean accuracy is 0.51875\n",
      "For subject 13 mean accuracy is 0.48125\n",
      "For subject 14 mean accuracy is 0.44375\n",
      "For subject 15 mean accuracy is 0.45625\n",
      "For subject 16 mean accuracy is 0.63125\n",
      "For subject 17 mean accuracy is 0.48125\n",
      "For subject 18 mean accuracy is 0.53125\n",
      "For subject 19 mean accuracy is 0.46875\n",
      "For subject 20 mean accuracy is 0.5375\n"
     ]
    }
   ],
   "source": [
    "results = CSP.mainloop(SPDDataset, 3, 3)"
   ]
  },
  {
   "cell_type": "code",
   "execution_count": 33,
   "metadata": {},
   "outputs": [],
   "source": [
    "class ReimannMeanCSP:\n",
    "    def __init__(self, subjects, channels, train_size=0.8):\n",
    "        self.subjects=subjects\n",
    "        self.channels=channels\n",
    "        self.train_size=train_size\n",
    "        \n",
    "    def separate_classes(self, d, l):\n",
    "        classSpecificSPD=[]\n",
    "        for i in range(2): #two classes\n",
    "            indecies = [j for j,val in enumerate(l) if val==i]\n",
    "            classSPD = [d[j] for j in indecies]\n",
    "            classSpecificSPD.append(classSPD)\n",
    "        return classSpecificSPD\n",
    "    \n",
    "    def traintestsplit(self, d, l):\n",
    "        N = len(d)\n",
    "        d_train = d[:int(N*self.train_size)]\n",
    "        l_train = l[:int(N*self.train_size)]\n",
    "        \n",
    "        d_test = d[int(N*self.train_size):]\n",
    "        l_test = l[int(N*self.train_size):]\n",
    "        \n",
    "        return d_train, l_train, d_test, l_test\n",
    "    \n",
    "    def estimateMeans(self, classSpecificSPD, metric):\n",
    "        if metric==\"AIRM\":\n",
    "            estimator = FrechetMean(spd.SPDMetricAffine(n=self.channels), max_iter=64)\n",
    "        elif metric==\"LEM\":\n",
    "            estimator = FrechetMean(spd.SPDMetricLogEuclidean(n=self.channels), max_iter=64)\n",
    "        else:\n",
    "            raise Exception(\"Not implemented metric\")\n",
    "            \n",
    "        means = []\n",
    "        \n",
    "        for SPD in classSpecificSPD:\n",
    "            estimator.fit(SPD)\n",
    "            means.append(estimator.estimate_)\n",
    "            \n",
    "        return means\n",
    "        \n",
    "    \n",
    "    def getSpatialFilter(self, d, l, n, metric):\n",
    "        classSpecificSPD = self.separate_classes(d, l)\n",
    "        \n",
    "        left_avg, right_avg = self.estimateMeans(classSpecificSPD, metric)\n",
    "        \n",
    "        _,V = la.eig(left_avg, left_avg+right_avg)\n",
    "        V = np.concatenate((V[:, :n], V[:, -n:]), axis=1)\n",
    "        return V\n",
    "    \n",
    "    def extractFeatures(self, dk, V):\n",
    "        a = np.dot(np.dot(V.T, dk), V)\n",
    "        f = np.log(np.diagonal(a)/np.trace(a))\n",
    "        return f\n",
    "    \n",
    "    def mainloop(self, SPDDataset, n, C, metric):\n",
    "        \n",
    "        results = []\n",
    "        \n",
    "        for i in range(self.subjects):\n",
    "            d,l = SPDDataset[i]\n",
    "            d_train, l_train, d_test, l_test = self.traintestsplit(d,l)\n",
    "            \n",
    "            V = self.getSpatialFilter(d_train, l_train, n, metric)\n",
    "            \n",
    "            f_train = []\n",
    "            f_test = []\n",
    "            \n",
    "            for j in range(len(d_train)):\n",
    "                f_train.append(self.extractFeatures(d_train[j], V))\n",
    "                \n",
    "            for j in range(len(d_test)):\n",
    "                f_test.append(self.extractFeatures(d_test[j], V))\n",
    "                \n",
    "            model = LogisticRegression(C=C, max_iter=2000)\n",
    "            \n",
    "            model.fit(f_train, l_train)\n",
    "            accuracy = model.score(f_test, l_test)\n",
    "            results.append(accuracy)\n",
    "            print(\"For subject \"+str(i+1) + \" mean accuracy is \" + str(accuracy))            \n",
    "        return results"
   ]
  },
  {
   "cell_type": "code",
   "execution_count": 34,
   "metadata": {},
   "outputs": [],
   "source": [
    "RCSP = ReimannMeanCSP(subjects, channels, 0.6)"
   ]
  },
  {
   "cell_type": "code",
   "execution_count": 35,
   "metadata": {},
   "outputs": [
    {
     "name": "stdout",
     "output_type": "stream",
     "text": [
      "For subject 1 mean accuracy is 0.5375\n",
      "For subject 2 mean accuracy is 0.56875\n",
      "For subject 3 mean accuracy is 0.53125\n",
      "For subject 4 mean accuracy is 0.6875\n",
      "For subject 5 mean accuracy is 0.51875\n",
      "For subject 6 mean accuracy is 0.54375\n",
      "For subject 7 mean accuracy is 0.51875\n",
      "For subject 8 mean accuracy is 0.48125\n",
      "For subject 9 mean accuracy is 0.5625\n",
      "For subject 10 mean accuracy is 0.48125\n",
      "For subject 11 mean accuracy is 0.45625\n",
      "For subject 12 mean accuracy is 0.61875\n",
      "For subject 13 mean accuracy is 0.5375\n",
      "For subject 14 mean accuracy is 0.49375\n",
      "For subject 15 mean accuracy is 0.55625\n",
      "For subject 16 mean accuracy is 0.63125\n",
      "For subject 17 mean accuracy is 0.53125\n",
      "For subject 18 mean accuracy is 0.50625\n",
      "For subject 19 mean accuracy is 0.53125\n",
      "For subject 20 mean accuracy is 0.55\n"
     ]
    }
   ],
   "source": [
    "AIRM_results = RCSP.mainloop(SPDDataset, 3, 3, \"AIRM\")"
   ]
  },
  {
   "cell_type": "code",
   "execution_count": 36,
   "metadata": {},
   "outputs": [
    {
     "name": "stdout",
     "output_type": "stream",
     "text": [
      "For subject 1 mean accuracy is 0.49375\n",
      "For subject 2 mean accuracy is 0.53125\n",
      "For subject 3 mean accuracy is 0.53125\n",
      "For subject 4 mean accuracy is 0.675\n",
      "For subject 5 mean accuracy is 0.45\n",
      "For subject 6 mean accuracy is 0.5125\n",
      "For subject 7 mean accuracy is 0.54375\n",
      "For subject 8 mean accuracy is 0.4\n",
      "For subject 9 mean accuracy is 0.54375\n",
      "For subject 10 mean accuracy is 0.49375\n",
      "For subject 11 mean accuracy is 0.475\n",
      "For subject 12 mean accuracy is 0.6\n",
      "For subject 13 mean accuracy is 0.51875\n",
      "For subject 14 mean accuracy is 0.5\n",
      "For subject 15 mean accuracy is 0.51875\n",
      "For subject 16 mean accuracy is 0.54375\n",
      "For subject 17 mean accuracy is 0.45\n",
      "For subject 18 mean accuracy is 0.44375\n",
      "For subject 19 mean accuracy is 0.475\n",
      "For subject 20 mean accuracy is 0.5\n"
     ]
    }
   ],
   "source": [
    "LEM_results = RCSP.mainloop(SPDDataset, 3, 3, \"LEM\")"
   ]
  },
  {
   "cell_type": "code",
   "execution_count": 66,
   "metadata": {},
   "outputs": [],
   "source": [
    "classicCSPAverage = sum(results)/len(results)"
   ]
  },
  {
   "cell_type": "code",
   "execution_count": 38,
   "metadata": {},
   "outputs": [],
   "source": [
    "AIRMCSPAverage = sum(AIRM_results)/len(AIRM_results)"
   ]
  },
  {
   "cell_type": "code",
   "execution_count": 39,
   "metadata": {},
   "outputs": [],
   "source": [
    "LEMCSPAverage = sum(LEM_results)/len(LEM_results)"
   ]
  },
  {
   "cell_type": "code",
   "execution_count": 67,
   "metadata": {},
   "outputs": [
    {
     "data": {
      "text/plain": [
       "0.4978124999999999"
      ]
     },
     "execution_count": 67,
     "metadata": {},
     "output_type": "execute_result"
    }
   ],
   "source": [
    "classicCSPAverage"
   ]
  },
  {
   "cell_type": "code",
   "execution_count": 41,
   "metadata": {},
   "outputs": [
    {
     "data": {
      "text/plain": [
       "0.5421875"
      ]
     },
     "execution_count": 41,
     "metadata": {},
     "output_type": "execute_result"
    }
   ],
   "source": [
    "AIRMCSPAverage"
   ]
  },
  {
   "cell_type": "code",
   "execution_count": 42,
   "metadata": {},
   "outputs": [
    {
     "data": {
      "text/plain": [
       "0.51"
      ]
     },
     "execution_count": 42,
     "metadata": {},
     "output_type": "execute_result"
    }
   ],
   "source": [
    "LEMCSPAverage"
   ]
  }
 ],
 "metadata": {
  "kernelspec": {
   "display_name": "Python 3",
   "language": "python",
   "name": "python3"
  },
  "language_info": {
   "codemirror_mode": {
    "name": "ipython",
    "version": 3
   },
   "file_extension": ".py",
   "mimetype": "text/x-python",
   "name": "python",
   "nbconvert_exporter": "python",
   "pygments_lexer": "ipython3",
   "version": "3.7.6"
  }
 },
 "nbformat": 4,
 "nbformat_minor": 4
}
