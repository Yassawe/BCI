{
 "cells": [
  {
   "cell_type": "code",
   "execution_count": null,
   "metadata": {},
   "outputs": [],
   "source": [
    "import pickle\n",
    "import nu_smrutils as u\n",
    "import pandas as pd\n",
    "import numpy as np\n",
    "\n",
    "pd.set_option('display.max_columns', None)\n",
    "pd.set_option('display.max_rows', None)"
   ]
  },
  {
   "cell_type": "code",
   "execution_count": null,
   "metadata": {},
   "outputs": [],
   "source": [
    "class DataPreparation:\n",
    "    def __init__(self, directory, conditions, epochs):\n",
    "        self.conditions=conditions\n",
    "        self.epochs=epochs\n",
    "        self.directory=directory\n",
    "    \n",
    "    def loadConcat(self, subject):\n",
    "        train_f=self.directory.format(subject, 'train')\n",
    "        test_f=self.directory.format(subject, 'test')\n",
    "\n",
    "        train = u.loaddat(train_f)\n",
    "        tr_df=train.to_data_frame()\n",
    "\n",
    "        test = u.loaddat(test_f)\n",
    "        ts_df=test.to_data_frame()\n",
    "        ts_df['epoch']+=200\n",
    "        return pd.concat([tr_df, ts_df])\n",
    "\n",
    "    def convertToSPD(self, df, normalize=True):\n",
    "        SPD = []\n",
    "        labels = [] \n",
    "        for i in range(self.epochs):\n",
    "            df_slice=df.loc[df['epoch']==i, :]\n",
    "            matrix=df_slice.iloc[:, 3:]\n",
    "            \n",
    "            if normalize:\n",
    "                matrix=(matrix-matrix.mean())/matrix.std()\n",
    "            \n",
    "            label=df_slice['condition'].iloc[0]\n",
    "\n",
    "            for j in range(len(self.conditions)):\n",
    "                if label==self.conditions[j]:\n",
    "                    label=j #encoding of conditions to integers\n",
    "                    break\n",
    "            covmat=matrix.cov().to_numpy()\n",
    "            SPD.append(covmat)\n",
    "            labels.append(label) \n",
    "        return SPD, labels\n",
    "\n",
    "    def generateSPDDataset(self, r=[1,54], normalize=True):\n",
    "        SPDDataset=[]\n",
    "        labels = []\n",
    "        for i in range(r[0],r[1]+1):\n",
    "            df=self.loadConcat(i)\n",
    "            SPD, l = self.convertToSPD(df,normalize)\n",
    "            SPDDataset+=SPD\n",
    "            labels+=l    \n",
    "        return SPDDataset, labels"
   ]
  },
  {
   "cell_type": "code",
   "execution_count": null,
   "metadata": {},
   "outputs": [],
   "source": [
    "directory = 'datasets/54subjects/Subject{}_{}.pickle'\n",
    "conditions=['left','right']\n",
    "subjectRange=[1,54]\n",
    "epochs = 400"
   ]
  }
 ],
 "metadata": {
  "kernelspec": {
   "display_name": "Python 3",
   "language": "python",
   "name": "python3"
  },
  "language_info": {
   "codemirror_mode": {
    "name": "ipython",
    "version": 3
   },
   "file_extension": ".py",
   "mimetype": "text/x-python",
   "name": "python",
   "nbconvert_exporter": "python",
   "pygments_lexer": "ipython3",
   "version": "3.7.6"
  }
 },
 "nbformat": 4,
 "nbformat_minor": 4
}
