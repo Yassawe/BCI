{
 "cells": [
  {
   "cell_type": "code",
   "execution_count": 1,
   "metadata": {},
   "outputs": [],
   "source": [
    "import os\n",
    "from scipy.io import loadmat\n",
    "import numpy as np\n",
    "import pandas as pd\n",
    "\n",
    "path=r'C:\\Users\\Yassawe\\Desktop\\Универская учеба\\Research\\Amin Zolonvari\\potential datasets\\Dataset2018\\HaLT'\n",
    "\n",
    "def get_dataframes(path):\n",
    "    ##\n",
    "    ## Applicable only to CLA and HaLT datasets from https://www.nature.com/articles/sdata2018211\n",
    "    ##\n",
    "    \n",
    "    dirs=[f for f in os.listdir(path) if f.endswith('.mat')]\n",
    "    subjects=[]\n",
    "    mapping={\n",
    "        0:'blank',\n",
    "        1:'left_hand',\n",
    "        2:'right_hand',\n",
    "        3:'passive',\n",
    "        4:'left_leg',\n",
    "        5:'tongue',\n",
    "        6:'right_leg',\n",
    "        99:'initial_relaxation',\n",
    "        91:'inter_relaxation_breaks',\n",
    "        92:'experiment_end'\n",
    "    }\n",
    "    \n",
    "    for file in dirs:\n",
    "        data=loadmat(dirs[3])\n",
    "        eeg = data['o']['data'][0][0]\n",
    "        label=data['o']['marker'][0][0]\n",
    "        condition=[]\n",
    "        for i in range(len(label)):\n",
    "            if label[i][0] in mapping.keys():\n",
    "                condition.append(mapping[label[i][0]])\n",
    "        chnames=data['o']['chnames'][0][0]\n",
    "        channels=[]\n",
    "        for i in range(len(chnames)):\n",
    "            channels.append(chnames[i][0][0])\n",
    "        eegdf=pd.DataFrame(eeg, columns=channels)\n",
    "        labeldf=pd.DataFrame(condition, columns=['condition'])\n",
    "        df=pd.concat([labeldf, eegdf], axis=1)\n",
    "        subjects.append(df)\n",
    "        \n",
    "    return subjects"
   ]
  }
 ],
 "metadata": {
  "kernelspec": {
   "display_name": "Python 3",
   "language": "python",
   "name": "python3"
  },
  "language_info": {
   "codemirror_mode": {
    "name": "ipython",
    "version": 3
   },
   "file_extension": ".py",
   "mimetype": "text/x-python",
   "name": "python",
   "nbconvert_exporter": "python",
   "pygments_lexer": "ipython3",
   "version": "3.7.6"
  }
 },
 "nbformat": 4,
 "nbformat_minor": 4
}
