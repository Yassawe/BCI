{
 "cells": [
  {
   "cell_type": "code",
   "execution_count": null,
   "metadata": {},
   "outputs": [],
   "source": [
    "%env GEOMSTATS_BACKEND=numpy\n",
    "%env NUMEXPR_MAX_THREADS=12 \n",
    "\n",
    "import pickle\n",
    "import pandas as pd\n",
    "import numpy as np\n",
    "\n",
    "import geomstats.backend as gs\n",
    "import geomstats.geometry.spd_matrices as spd\n",
    "from geomstats.learning.frechet_mean import FrechetMean\n",
    "from geomstats.learning.preprocessing import ToTangentSpace\n",
    "\n",
    "pd.set_option('display.max_columns', None)\n",
    "pd.set_option('display.max_rows', None)"
   ]
  },
  {
   "cell_type": "code",
   "execution_count": null,
   "metadata": {},
   "outputs": [],
   "source": [
    "class RMLNM:\n",
    "    def __init__(self, subjects, epochs, channels, n_classes):\n",
    "        self.subjects=subjects\n",
    "        self.epochs=epochs\n",
    "        self.n_classes=n_classes\n",
    "        self.LE_metric = spd.SPDMetricLogEuclidean(n=channels)\n",
    "        self.AI_metric = spd.SPDMetricAffine(n=channels)\n",
    "        self.LE_mean = FrechetMean(self.LE_metric)\n",
    "        self.AI_mean = FrechetMean(self.AI_metric)\n",
    "        self.choices = [\"LE\", \"AI\"]\n",
    "        \n",
    "    def outer_LOSO(self, d, l):\n",
    "        subject_acc=[]\n",
    "        N = self.subjects\n",
    "        for i in range(N):\n",
    "            print(\"Subject: \"+str(i+1))\n",
    "            d_leave = d[i*self.epochs:(i+1)*self.epochs]\n",
    "            l_leave = l[i*self.epochs:(i+1)*self.epochs]\n",
    "            d_remain = d[:i*self.epochs] + d[(i+1)*self.epochs:] \n",
    "            l_remain = l[:i*self.epochs] + l[(i+1)*self.epochs:]\n",
    "            choice = self.inner_LOSO(d_remain, l_remain)\n",
    "            print(\"Choice for the subject is: \" + choice)\n",
    "            classSpecificSPD = self.separate_classes(d_remain, l_remain)\n",
    "            SPDk = self.compute_mean(classSpecificSPD, choice)\n",
    "            accuracy = self.compute_accuracy(d_leave, l_leave, SPDk, choice)  \n",
    "            print(\"The subject accuracy is:\" + str(accuracy) + \"\\n\")  \n",
    "        return subject_acc\n",
    "    \n",
    "    def inner_LOSO(self, d, l):\n",
    "        acc = [0 for i in range(len(self.choices))]\n",
    "        N = self.subjects-1\n",
    "        for i in range(N):\n",
    "            d_leave = d[i*self.epochs:(i+1)*self.epochs]\n",
    "            l_leave = l[i*self.epochs:(i+1)*self.epochs]\n",
    "            d_remain = d[:i*self.epochs] + d[(i+1)*self.epochs:] \n",
    "            l_remain = l[:i*self.epochs] + l[(i+1)*self.epochs:]\n",
    "            classSpecificSPD = self.separate_classes(d_remain, l_remain)\n",
    "            for j in range(len(self.choices)):\n",
    "                SPDk = self.compute_mean(classSpecificSPD, self.choices[j])\n",
    "                accuracy = self.compute_accuracy(d_leave, l_leave, SPDk, self.choices[j])\n",
    "                acc[j] = (N-1)*acc[j]/N + accuracy/N #iterative computation of the mean\n",
    "        print(\"Inner LOSO round complete!\")\n",
    "        print(self.choices)\n",
    "        print(acc)\n",
    "        best = acc.index(max(acc))\n",
    "        return self.choices[best]\n",
    "            \n",
    "    def compute_accuracy(self, d, l, SPDk, choice):\n",
    "        error = 0\n",
    "        if choice == \"LE\":\n",
    "            method = self.LE_metric\n",
    "        elif choice == \"AI\":\n",
    "            method = self.AI_metric\n",
    "        else:\n",
    "            raise Exception(\"Non implemented metric\")\n",
    "        for i in range(len(d)):\n",
    "            dist = []\n",
    "            for j in range(self.n_classes):\n",
    "                dist.append(method.dist(d[i], SPDk[j]))\n",
    "            prediction = dist.index(min(dist))\n",
    "            if prediction!=l[i]:\n",
    "                error+=1                \n",
    "        accuracy=1-error/self.epochs\n",
    "        return accuracy\n",
    "    \n",
    "    def compute_mean(self, classSpecificSPD, choice):\n",
    "        SPDk=[]\n",
    "        if choice == \"LE\":\n",
    "            method = self.LE_mean\n",
    "        elif choice == \"AI\":\n",
    "            method = self.AI_mean\n",
    "        else:\n",
    "            raise Exception(\"Non implemented metric\")\n",
    "        for SPD in classSpecificSPD:\n",
    "            method.fit(SPD)\n",
    "            SPDk.append(method.estimate_)    \n",
    "        return SPDk\n",
    "    \n",
    "    def separate_classes(self, d, l):\n",
    "        classSpecificSPD=[]\n",
    "        for i in range(self.n_classes):\n",
    "            indecies = [j for j,val in enumerate(l) if val==i]\n",
    "            classSPD = [d[j] for j in indecies]\n",
    "            classSpecificSPD.append(classSPD)\n",
    "        return classSpecificSPD"
   ]
  },
  {
   "cell_type": "code",
   "execution_count": null,
   "metadata": {},
   "outputs": [],
   "source": [
    "subjects = 10\n",
    "epochs = 400 #total epochs in one subject\n",
    "channels = 62\n",
    "conditions=['left','right']"
   ]
  },
  {
   "cell_type": "code",
   "execution_count": null,
   "metadata": {},
   "outputs": [],
   "source": [
    "filename='datasets/SPDDataset54.pickle'\n",
    "infile=open(filename,'rb')\n",
    "data=pickle.load(infile)\n",
    "d, l = data[0], data[1]"
   ]
  },
  {
   "cell_type": "code",
   "execution_count": null,
   "metadata": {},
   "outputs": [],
   "source": [
    "d=d[:4000]\n",
    "l=l[:4000]"
   ]
  },
  {
   "cell_type": "code",
   "execution_count": null,
   "metadata": {},
   "outputs": [],
   "source": [
    "b=RMLNM(subjects, epochs, channels, len(conditions))\n",
    "results=b.outer_LOSO(d, l)"
   ]
  },
  {
   "cell_type": "code",
   "execution_count": null,
   "metadata": {},
   "outputs": [],
   "source": [
    "results_dump='datasets/resultsRMLNM54.pickle'\n",
    "outfile = open(results_dump,'w+b')\n",
    "pickle.dump(results, outfile)\n",
    "outfile.close()"
   ]
  }
 ],
 "metadata": {
  "kernelspec": {
   "display_name": "Python 3",
   "language": "python",
   "name": "python3"
  },
  "language_info": {
   "codemirror_mode": {
    "name": "ipython",
    "version": 3
   },
   "file_extension": ".py",
   "mimetype": "text/x-python",
   "name": "python",
   "nbconvert_exporter": "python",
   "pygments_lexer": "ipython3",
   "version": "3.7.6"
  }
 },
 "nbformat": 4,
 "nbformat_minor": 4
}
