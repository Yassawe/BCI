{
 "cells": [
  {
   "cell_type": "code",
   "execution_count": 8,
   "metadata": {},
   "outputs": [
    {
     "name": "stdout",
     "output_type": "stream",
     "text": [
      "env: GEOMSTATS_BACKEND=numpy\n",
      "env: NUMEXPR_MAX_THREADS=12\n"
     ]
    }
   ],
   "source": [
    "%env GEOMSTATS_BACKEND=numpy\n",
    "\n",
    "%env NUMEXPR_MAX_THREADS=12 \n",
    "\n",
    "import pickle\n",
    "import nu_smrutils as u\n",
    "import pandas as pd\n",
    "import numpy as np\n",
    "\n",
    "import geomstats.backend as gs\n",
    "import geomstats.geometry.spd_matrices as spd\n",
    "from geomstats.learning.frechet_mean import FrechetMean\n",
    "from geomstats.learning.preprocessing import ToTangentSpace\n",
    "\n",
    "pd.set_option('display.max_columns', None)\n",
    "pd.set_option('display.max_rows', None)"
   ]
  },
  {
   "cell_type": "code",
   "execution_count": 9,
   "metadata": {},
   "outputs": [],
   "source": [
    "subjects = 54\n",
    "channels = 62 \n",
    "epochs = 400 #total epochs in one subject"
   ]
  },
  {
   "cell_type": "code",
   "execution_count": 10,
   "metadata": {},
   "outputs": [],
   "source": [
    "filename='datasets/SPDDataset.pickle'\n",
    "infile=open(filename,'rb')\n",
    "data=pickle.load(infile)\n",
    "d, l = data[0], data[1]"
   ]
  },
  {
   "cell_type": "code",
   "execution_count": 11,
   "metadata": {},
   "outputs": [],
   "source": [
    "ai_metric=spd.SPDMetricAffine(n=channels)\n",
    "le_metric=spd.SPDMetricLogEuclidean(n=channels)"
   ]
  },
  {
   "cell_type": "code",
   "execution_count": null,
   "metadata": {},
   "outputs": [],
   "source": [
    "AI_pairwise=ai_metric.dist_pairwise(d)"
   ]
  },
  {
   "cell_type": "code",
   "execution_count": null,
   "metadata": {},
   "outputs": [],
   "source": [
    "LE_pairwise=le_metric.dist_pairwise(d)"
   ]
  },
  {
   "cell_type": "code",
   "execution_count": null,
   "metadata": {},
   "outputs": [],
   "source": [
    "pairwise =[AI_pairwise, LE_pairwise]"
   ]
  },
  {
   "cell_type": "code",
   "execution_count": null,
   "metadata": {},
   "outputs": [],
   "source": [
    "filename = 'datasets/pairwise.pickle'\n",
    "outfile = open(filename,'wb')\n",
    "pickle.dump(pairwise, outfile)\n",
    "outfile.close()"
   ]
  }
 ],
 "metadata": {
  "kernelspec": {
   "display_name": "Python 3",
   "language": "python",
   "name": "python3"
  },
  "language_info": {
   "codemirror_mode": {
    "name": "ipython",
    "version": 3
   },
   "file_extension": ".py",
   "mimetype": "text/x-python",
   "name": "python",
   "nbconvert_exporter": "python",
   "pygments_lexer": "ipython3",
   "version": "3.7.6"
  }
 },
 "nbformat": 4,
 "nbformat_minor": 4
}
