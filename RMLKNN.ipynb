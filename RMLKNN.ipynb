{
 "cells": [
  {
   "cell_type": "code",
   "execution_count": 1,
   "metadata": {},
   "outputs": [
    {
     "name": "stdout",
     "output_type": "stream",
     "text": [
      "env: GEOMSTATS_BACKEND=numpy\n",
      "env: NUMEXPR_MAX_THREADS=12\n"
     ]
    },
    {
     "name": "stderr",
     "output_type": "stream",
     "text": [
      "INFO: Using numpy backend\n"
     ]
    }
   ],
   "source": [
    "%env GEOMSTATS_BACKEND=numpy\n",
    "\n",
    "%env NUMEXPR_MAX_THREADS=12 \n",
    "\n",
    "import pickle\n",
    "import nu_smrutils as u\n",
    "import pandas as pd\n",
    "import numpy as np\n",
    "\n",
    "import geomstats.backend as gs\n",
    "import geomstats.geometry.spd_matrices as spd\n",
    "from geomstats.learning.frechet_mean import FrechetMean\n",
    "from geomstats.learning.preprocessing import ToTangentSpace\n",
    "\n",
    "from sklearn.neighbors import KNeighborsClassifier as KNN\n",
    "from sklearn.model_selection import cross_val_score\n",
    "from sklearn.model_selection import cross_validate\n",
    "\n",
    "pd.set_option('display.max_columns', None)\n",
    "pd.set_option('display.max_rows', None)"
   ]
  },
  {
   "cell_type": "code",
   "execution_count": 18,
   "metadata": {},
   "outputs": [],
   "source": [
    "class RMLKNN:\n",
    "    def __init__(self, subjects, epochs, klist=[3,5,7,9], metrics=['AIRM','LEM']):\n",
    "        self.subjects = subjects\n",
    "        self.klist=klist\n",
    "        self.metrics=metrics\n",
    "        self.epochs = epochs\n",
    "        \n",
    "    def outer_LOSO(self, pairwise_d, l):\n",
    "        results =[]\n",
    "        for i in range(self.subjects):\n",
    "            print(\"Subject: \"+str(i+1))\n",
    "            remain_d = []\n",
    "            for j in range(len(pairwise_d)):\n",
    "                remain_d.append(np.delete(np.delete(pairwise_d[j], slice(i*self.epochs, (i+1)*self.epochs), 0), slice(i*self.epochs, (i+1)*self.epochs), 1)) \n",
    "            remain_l = l[:i*self.epochs] + l[(i+1)*self.epochs:]\n",
    "            [k, m] = self.inner_LOSO(remain_d, remain_l)\n",
    "            \n",
    "            print(\"Choice for the subject is: K = \" + str(self.klist[k]) + \" Metric = \" + str(self.metrics[m]))\n",
    "            \n",
    "            clf = KNN(n_neighbors = self.klist[k], metric = 'precomputed')\n",
    "            res = cross_validate(clf, pairwise_d[m], l, cv=self.subjects)\n",
    "            acc = res['test_score'][i]\n",
    "            results.append(acc)\n",
    "            print(\"Accuracy for this subject is: \" + str(acc))\n",
    "            \n",
    "        return results\n",
    "            \n",
    "    def inner_LOSO(self, pairwise_d, l): \n",
    "        max_acc = 0\n",
    "        max_indecies = [0, 0]\n",
    "        for k in range(len(self.klist)):\n",
    "            clf = KNN(n_neighbors = self.klist[k], metric = 'precomputed')\n",
    "            for m in range(len(pairwise_d)):\n",
    "                acc = cross_val_score(clf, pairwise_d[m], l, cv=self.subjects-1)\n",
    "                if acc.mean()>max_acc:\n",
    "                    max_acc = acc.mean()\n",
    "                    max_indecies = [k, m]\n",
    "        return max_indecies"
   ]
  },
  {
   "cell_type": "code",
   "execution_count": 19,
   "metadata": {},
   "outputs": [],
   "source": [
    "d_filename='datasets/SPDDataset.pickle'\n",
    "infile=open(d_filename,'rb')\n",
    "[d, l] = pickle.load(infile)\n",
    "\n",
    "k_filename = 'datasets/pairwise10.pickle'\n",
    "infile=open(k_filename,'rb')\n",
    "pairwise_d = pickle.load(infile)"
   ]
  },
  {
   "cell_type": "code",
   "execution_count": 20,
   "metadata": {},
   "outputs": [],
   "source": [
    "subjects = 10\n",
    "channels = 62 \n",
    "epochs = 400 #total epochs in one subject\n",
    "\n",
    "d_sub = d[:10*epochs]\n",
    "l_sub = l[:10*epochs]"
   ]
  },
  {
   "cell_type": "code",
   "execution_count": 21,
   "metadata": {},
   "outputs": [],
   "source": [
    "a = RMLKNN(subjects, epochs)"
   ]
  },
  {
   "cell_type": "code",
   "execution_count": 22,
   "metadata": {},
   "outputs": [
    {
     "name": "stdout",
     "output_type": "stream",
     "text": [
      "Subject: 1\n",
      "Choice for the subject is: K = 5 Metric = AIRM\n",
      "Accuracy for this subject is: 0.5075\n",
      "Subject: 2\n",
      "Choice for the subject is: K = 7 Metric = AIRM\n",
      "Accuracy for this subject is: 0.53\n",
      "Subject: 3\n",
      "Choice for the subject is: K = 3 Metric = AIRM\n",
      "Accuracy for this subject is: 0.54\n",
      "Subject: 4\n",
      "Choice for the subject is: K = 3 Metric = AIRM\n",
      "Accuracy for this subject is: 0.5375\n",
      "Subject: 5\n",
      "Choice for the subject is: K = 3 Metric = AIRM\n",
      "Accuracy for this subject is: 0.46\n",
      "Subject: 6\n",
      "Choice for the subject is: K = 3 Metric = AIRM\n",
      "Accuracy for this subject is: 0.5125\n",
      "Subject: 7\n",
      "Choice for the subject is: K = 7 Metric = AIRM\n",
      "Accuracy for this subject is: 0.51\n",
      "Subject: 8\n",
      "Choice for the subject is: K = 3 Metric = AIRM\n",
      "Accuracy for this subject is: 0.4925\n",
      "Subject: 9\n",
      "Choice for the subject is: K = 3 Metric = AIRM\n",
      "Accuracy for this subject is: 0.5175\n",
      "Subject: 10\n",
      "Choice for the subject is: K = 9 Metric = AIRM\n",
      "Accuracy for this subject is: 0.495\n"
     ]
    }
   ],
   "source": [
    "results = a.outer_LOSO(pairwise_d, l_sub)"
   ]
  },
  {
   "cell_type": "code",
   "execution_count": null,
   "metadata": {},
   "outputs": [],
   "source": [
    "\"\"\"\n",
    "ai_metric=spd.SPDMetricAffine(n=channels)\n",
    "le_metric=spd.SPDMetricLogEuclidean(n=channels)\n",
    "AI_pairwise=ai_metric.dist_pairwise(d_sub)\n",
    "LE_pairwise=le_metric.dist_pairwise(d_sub)\n",
    "pairwise_d =[AI_pairwise, LE_pairwise]\n",
    "filename = 'datasets/pairwise10.pickle'\n",
    "outfile = open(filename,'wb')\n",
    "pickle.dump(pairwise, outfile)\n",
    "outfile.close()\n",
    "\"\"\""
   ]
  }
 ],
 "metadata": {
  "kernelspec": {
   "display_name": "Python 3",
   "language": "python",
   "name": "python3"
  },
  "language_info": {
   "codemirror_mode": {
    "name": "ipython",
    "version": 3
   },
   "file_extension": ".py",
   "mimetype": "text/x-python",
   "name": "python",
   "nbconvert_exporter": "python",
   "pygments_lexer": "ipython3",
   "version": "3.7.6"
  }
 },
 "nbformat": 4,
 "nbformat_minor": 4
}
