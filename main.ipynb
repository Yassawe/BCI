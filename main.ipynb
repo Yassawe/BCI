{
 "cells": [
  {
   "cell_type": "code",
   "execution_count": 42,
   "metadata": {},
   "outputs": [
    {
     "name": "stdout",
     "output_type": "stream",
     "text": [
      "env: GEOMSTATS_BACKEND=numpy\n"
     ]
    }
   ],
   "source": [
    "%env GEOMSTATS_BACKEND=numpy\n",
    "import nu_smrutils as u\n",
    "import pandas as pd\n",
    "import numpy as np\n",
    "\n",
    "from sklearn.pipeline import make_pipeline\n",
    "from sklearn.model_selection import cross_validate\n",
    "from sklearn.linear_model import LogisticRegression\n",
    "\n",
    "#from tensorflow.keras.wrappers.scikit_learn import KerasClassifier\n",
    "#from tensorflow.keras import Sequential\n",
    "#from tensorflow.keras.layers import Dense\n",
    "#from tensorflow.keras.regularizers import L1L2\n",
    "\n",
    "import geomstats.backend as gs\n",
    "import geomstats.geometry.spd_matrices as spd\n",
    "from geomstats.learning.preprocessing import ToTangentSpace\n",
    "\n",
    "pd.set_option('display.max_columns', None)\n",
    "pd.set_option('display.max_rows', None)"
   ]
  },
  {
   "cell_type": "code",
   "execution_count": 43,
   "metadata": {},
   "outputs": [
    {
     "name": "stdout",
     "output_type": "stream",
     "text": [
      "Subjects: 9\n",
      "Channels: 22\n",
      "Total epochs: 288\n",
      "Points per epoch: 321\n"
     ]
    }
   ],
   "source": [
    "filename='datasets/aBNCI2014001R.pickle'\n",
    "d = u.loaddat(filename)\n",
    "df=d[0].to_data_frame()\n",
    "subjects = len(d)\n",
    "channels = df.columns.to_list()[3:]\n",
    "l_channels = len(channels)\n",
    "epochs = len(df['epoch'].unique())\n",
    "points = df.loc[df['epoch']==1,:].shape[0]\n",
    "\n",
    "print('Subjects: '+str(subjects))\n",
    "print('Channels: '+str(l_channels))\n",
    "print('Total epochs: '+str(epochs))\n",
    "print('Points per epoch: ' + str(points))"
   ]
  },
  {
   "cell_type": "code",
   "execution_count": 44,
   "metadata": {},
   "outputs": [],
   "source": [
    "def convert_data(d, subject, epochs):\n",
    "    df=d[subject].to_data_frame()\n",
    "    SPD = []\n",
    "    labels = [] \n",
    "    for j in range(epochs):\n",
    "        df_slice=df.loc[df['epoch']==j, :]\n",
    "        matrix=df_slice.iloc[:, 3:]\n",
    "        label=df_slice['condition'].iloc[0]\n",
    "        \n",
    "        if label=='left_hand':\n",
    "            label=0\n",
    "        elif label=='right_hand':\n",
    "            label=1\n",
    "        \n",
    "        covmat=matrix.cov().to_numpy()\n",
    "        SPD.append(covmat)\n",
    "        labels.append(label)\n",
    "    return SPD, labels"
   ]
  },
  {
   "cell_type": "code",
   "execution_count": 45,
   "metadata": {},
   "outputs": [
    {
     "name": "stdout",
     "output_type": "stream",
     "text": [
      "Subject #1\n",
      "Mean Acc: 78.82637628554144\n",
      "Std deviation: 6.7726421858475385\n",
      "\n",
      "Subject #2\n",
      "Mean Acc: 67.35632183908046\n",
      "Std deviation: 5.521054232756098\n",
      "\n",
      "Subject #3\n",
      "Mean Acc: 91.31276467029643\n",
      "Std deviation: 4.248762490535245\n",
      "\n",
      "Subject #4\n",
      "Mean Acc: 73.28493647912886\n",
      "Std deviation: 7.590156927159835\n",
      "\n",
      "Subject #5\n",
      "Mean Acc: 63.5632183908046\n",
      "Std deviation: 4.330124113585231\n",
      "\n",
      "Subject #6\n",
      "Mean Acc: 63.87779794313369\n",
      "Std deviation: 4.093595065651524\n",
      "\n",
      "Subject #7\n",
      "Mean Acc: 74.3254688445251\n",
      "Std deviation: 3.3866128834657094\n",
      "\n",
      "Subject #8\n",
      "Mean Acc: 94.08348457350272\n",
      "Std deviation: 3.9314346041301005\n",
      "\n",
      "Subject #9\n",
      "Mean Acc: 80.23593466424683\n",
      "Std deviation: 6.168332857937689\n",
      "\n"
     ]
    }
   ],
   "source": [
    "results=[]\n",
    "for i in range(subjects):\n",
    "    SPD, labels = convert_data(d, i, epochs)\n",
    "    manifold = spd.SPDMatrices(n=l_channels)\n",
    "    metric = spd.SPDMetricLogEuclidean(n=l_channels)\n",
    "    pipeline = make_pipeline(\n",
    "        ToTangentSpace(metric), \n",
    "        LogisticRegression(C=3, max_iter=10000)\n",
    "    )\n",
    "    \n",
    "    result = cross_validate(pipeline, SPD, labels)\n",
    "    results.append(result)\n",
    "    \n",
    "    print(\"Subject #\"+str(i+1))\n",
    "    print(\"Mean Acc: \" + str(100*result['test_score'].mean()))\n",
    "    print(\"Std deviation: \" + str(100*np.std(result['test_score']))+\"\\n\")"
   ]
  },
  {
   "cell_type": "code",
   "execution_count": null,
   "metadata": {},
   "outputs": [],
   "source": []
  }
 ],
 "metadata": {
  "kernelspec": {
   "display_name": "Python 3",
   "language": "python",
   "name": "python3"
  },
  "language_info": {
   "codemirror_mode": {
    "name": "ipython",
    "version": 3
   },
   "file_extension": ".py",
   "mimetype": "text/x-python",
   "name": "python",
   "nbconvert_exporter": "python",
   "pygments_lexer": "ipython3",
   "version": "3.7.6"
  }
 },
 "nbformat": 4,
 "nbformat_minor": 4
}
